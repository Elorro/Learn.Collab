{
  "nbformat": 4,
  "nbformat_minor": 0,
  "metadata": {
    "colab": {
      "provenance": [],
      "authorship_tag": "ABX9TyMk7exkdS75KByQuE1ucmk0",
      "include_colab_link": true
    },
    "kernelspec": {
      "name": "python3",
      "display_name": "Python 3"
    },
    "language_info": {
      "name": "python"
    }
  },
  "cells": [
    {
      "cell_type": "markdown",
      "metadata": {
        "id": "view-in-github",
        "colab_type": "text"
      },
      "source": [
        "<a href=\"https://colab.research.google.com/github/Elorro/Learn.Collab/blob/main/Untitled0.ipynb\" target=\"_parent\"><img src=\"https://colab.research.google.com/assets/colab-badge.svg\" alt=\"Open In Colab\"/></a>"
      ]
    },
    {
      "cell_type": "code",
      "execution_count": null,
      "metadata": {
        "id": "gNepmRHWbp1p"
      },
      "outputs": [],
      "source": []
    },
    {
      "cell_type": "code",
      "metadata": {
        "id": "cIJEv08DMSxj",
        "colab": {
          "base_uri": "https://localhost:8080/"
        },
        "outputId": "dd923b5f-7708-425f-a728-b376b68ea64b"
      },
      "source": [
        "import numpy as np\n",
        "import pandas as pd\n",
        "\n",
        "name_column = ['Eleanor', 'Chidi', 'Tahani', 'Jason']\n",
        "my_data = np.random.randint(low=0, high=101, size=(3,4))\n",
        "\n",
        "df = pd.DataFrame(data=my_data, columns = name_column)\n",
        "\n",
        "print(\"Aqui vemos los datos de Eleanor, Chidi, Tahani y Jason\")\n",
        "print(df)\n",
        "s =  df['Jason'][0]+df['Tahani'][0]\n",
        "print(\"\\nEl primer dato de Tahani es %d\" % df['Tahani'][0]+ \" y de Jason es %d\" % df['Jason'][0] + \". Luego, vemos que el primer dato de Janet es la suma de primer dato de Jason y Tahani, el cual es %d\\n\" % s)\n",
        "\n",
        "df['Janet'] = df['Jason'] + df['Tahani']\n",
        "\n",
        "print(df)"
      ],
      "execution_count": 1,
      "outputs": [
        {
          "output_type": "stream",
          "name": "stdout",
          "text": [
            "Aqui vemos los datos de Eleanor, Chidi, Tahani y Jason\n",
            "   Eleanor  Chidi  Tahani  Jason\n",
            "0       47     49      75     41\n",
            "1       81     19      33     87\n",
            "2       61     94      79     92\n",
            "\n",
            "El primer dato de Tahani es 75 y de Jason es 41. Luego, vemos que el primer dato de Janet es la suma de primer dato de Jason y Tahani, el cual es 116\n",
            "\n",
            "   Eleanor  Chidi  Tahani  Jason  Janet\n",
            "0       47     49      75     41    116\n",
            "1       81     19      33     87    120\n",
            "2       61     94      79     92    171\n"
          ]
        }
      ]
    }
  ]
}